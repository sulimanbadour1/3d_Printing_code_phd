{
  "cells": [
    {
      "cell_type": "markdown",
      "metadata": {
        "id": "PN1cAxdvd61e"
      },
      "source": [
        "## Heatmaps"
      ]
    },
    {
      "cell_type": "markdown",
      "metadata": {},
      "source": [
        "## only for yolov8 now"
      ]
    },
    {
      "cell_type": "markdown",
      "metadata": {
        "id": "o68Sg1oOeZm2"
      },
      "source": [
        "# Setup\n",
        "\n",
        "Pip install `ultralytics` and [dependencies](https://github.com/ultralytics/ultralytics/blob/main/pyproject.toml) and check software and hardware.\n",
        "\n",
        "[![PyPI - Version](https://img.shields.io/pypi/v/ultralytics?logo=pypi&logoColor=white)](https://pypi.org/project/ultralytics/) [![Downloads](https://static.pepy.tech/badge/ultralytics)](https://pepy.tech/project/ultralytics) [![PyPI - Python Version](https://img.shields.io/pypi/pyversions/ultralytics?logo=python&logoColor=gold)](https://pypi.org/project/ultralytics/)"
      ]
    },
    {
      "cell_type": "code",
      "execution_count": 1,
      "metadata": {
        "colab": {
          "base_uri": "https://localhost:8080/"
        },
        "id": "9dSwz_uOReMI",
        "outputId": "db8fe839-f689-4611-eda5-a876911f955e"
      },
      "outputs": [
        {
          "name": "stdout",
          "output_type": "stream",
          "text": [
            "Ultralytics YOLOv8.1.45  Python-3.8.19 torch-2.2.1 CUDA:0 (NVIDIA GeForce RTX 3060 Laptop GPU, 6144MiB)\n",
            "Setup complete  (12 CPUs, 31.3 GB RAM, 110.8/807.4 GB disk)\n"
          ]
        }
      ],
      "source": [
        "%pip install ultralytics\n",
        "import ultralytics\n",
        "ultralytics.checks()"
      ]
    },
    {
      "cell_type": "code",
      "execution_count": 5,
      "metadata": {
        "colab": {
          "base_uri": "https://localhost:8080/",
          "height": 1000
        },
        "id": "Cx-u59HQdu2o",
        "outputId": "a170a28b-534c-46da-f1c2-ecfb2e0450d6"
      },
      "outputs": [
        {
          "ename": "AttributeError",
          "evalue": "module 'ultralytics.solutions' has no attribute 'Heatmap'",
          "output_type": "error",
          "traceback": [
            "\u001b[1;31m---------------------------------------------------------------------------\u001b[0m",
            "\u001b[1;31mAttributeError\u001b[0m                            Traceback (most recent call last)",
            "Cell \u001b[1;32mIn[5], line 18\u001b[0m\n\u001b[0;32m     15\u001b[0m video_writer \u001b[38;5;241m=\u001b[39m cv2\u001b[38;5;241m.\u001b[39mVideoWriter(\u001b[38;5;124m\"\u001b[39m\u001b[38;5;124mheatmap_output.avi\u001b[39m\u001b[38;5;124m\"\u001b[39m, cv2\u001b[38;5;241m.\u001b[39mVideoWriter_fourcc(\u001b[38;5;241m*\u001b[39m\u001b[38;5;124m\"\u001b[39m\u001b[38;5;124mmp4v\u001b[39m\u001b[38;5;124m\"\u001b[39m), fps, (w, h))\n\u001b[0;32m     17\u001b[0m \u001b[38;5;66;03m# Initialize heatmap object\u001b[39;00m\n\u001b[1;32m---> 18\u001b[0m heatmap_obj \u001b[38;5;241m=\u001b[39m \u001b[43msolutions\u001b[49m\u001b[38;5;241;43m.\u001b[39;49m\u001b[43mHeatmap\u001b[49m(\n\u001b[0;32m     19\u001b[0m     colormap\u001b[38;5;241m=\u001b[39mcv2\u001b[38;5;241m.\u001b[39mCOLORMAP_PARULA,\n\u001b[0;32m     20\u001b[0m     view_img\u001b[38;5;241m=\u001b[39m\u001b[38;5;28;01mTrue\u001b[39;00m,\n\u001b[0;32m     21\u001b[0m     shape\u001b[38;5;241m=\u001b[39m\u001b[38;5;124m\"\u001b[39m\u001b[38;5;124mcircle\u001b[39m\u001b[38;5;124m\"\u001b[39m,\n\u001b[0;32m     22\u001b[0m     classes_names\u001b[38;5;241m=\u001b[39mmodel\u001b[38;5;241m.\u001b[39mnames,\n\u001b[0;32m     23\u001b[0m )\n\u001b[0;32m     25\u001b[0m \u001b[38;5;28;01mwhile\u001b[39;00m cap\u001b[38;5;241m.\u001b[39misOpened():\n\u001b[0;32m     26\u001b[0m     success, im0 \u001b[38;5;241m=\u001b[39m cap\u001b[38;5;241m.\u001b[39mread()\n",
            "\u001b[1;31mAttributeError\u001b[0m: module 'ultralytics.solutions' has no attribute 'Heatmap'"
          ]
        }
      ],
      "source": [
        "import cv2\n",
        "from ultralytics import YOLO, solutions\n",
        "\n",
        "# Load YOLO model\n",
        "model = YOLO(\"/content/best.pt\")\n",
        "\n",
        "# Open video file\n",
        "cap = cv2.VideoCapture(\"/content/vid.mp4\")\n",
        "assert cap.isOpened(), \"Error reading video file\"\n",
        "\n",
        "# Get video properties\n",
        "w, h, fps = (int(cap.get(x)) for x in (cv2.CAP_PROP_FRAME_WIDTH, cv2.CAP_PROP_FRAME_HEIGHT, cv2.CAP_PROP_FPS))\n",
        "\n",
        "# Initialize video writer\n",
        "video_writer = cv2.VideoWriter(\"heatmap_output.avi\", cv2.VideoWriter_fourcc(*\"mp4v\"), fps, (w, h))\n",
        "\n",
        "# Initialize heatmap object\n",
        "heatmap_obj = solutions.Heatmap(\n",
        "    colormap=cv2.COLORMAP_PARULA,\n",
        "    view_img=True,\n",
        "    shape=\"circle\",\n",
        "    classes_names=model.names,\n",
        ")\n",
        "\n",
        "while cap.isOpened():\n",
        "    success, im0 = cap.read()\n",
        "    if not success:\n",
        "        print(\"Video frame is empty or video processing has been successfully completed.\")\n",
        "        break\n",
        "\n",
        "    # Perform tracking on the current frame\n",
        "    tracks = model.track(im0, persist=True, show=False)\n",
        "\n",
        "    # Generate heatmap on the frame\n",
        "    im0 = heatmap_obj.generate_heatmap(im0, tracks)\n",
        "\n",
        "    # Write the frame to the output video\n",
        "    video_writer.write(im0)\n",
        "\n",
        "# Release resources\n",
        "cap.release()\n",
        "video_writer.release()\n",
        "cv2.destroyAllWindows()"
      ]
    }
  ],
  "metadata": {
    "colab": {
      "provenance": []
    },
    "kernelspec": {
      "display_name": "Python 3",
      "name": "python3"
    },
    "language_info": {
      "codemirror_mode": {
        "name": "ipython",
        "version": 3
      },
      "file_extension": ".py",
      "mimetype": "text/x-python",
      "name": "python",
      "nbconvert_exporter": "python",
      "pygments_lexer": "ipython3",
      "version": "3.8.19"
    }
  },
  "nbformat": 4,
  "nbformat_minor": 0
}
